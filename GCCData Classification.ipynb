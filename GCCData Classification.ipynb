{
 "cells": [
  {
   "cell_type": "code",
   "execution_count": 1,
   "metadata": {
    "collapsed": true
   },
   "outputs": [],
   "source": [
    "import numpy as np\n",
    "import pandas as pd\n",
    "from sklearn.metrics import classification_report\n",
    "from sklearn.svm import SVC\n",
    "from sklearn.model_selection import train_test_split\n",
    "from sklearn.linear_model import LogisticRegression\n",
    "import matplotlib.pyplot as plt\n",
    "import seaborn.apionly as sns\n",
    "%matplotlib inline"
   ]
  },
  {
   "cell_type": "code",
   "execution_count": 196,
   "metadata": {},
   "outputs": [
    {
     "data": {
      "text/plain": [
       "array(['rep', 'other', 'dem'], dtype=object)"
      ]
     },
     "execution_count": 196,
     "metadata": {},
     "output_type": "execute_result"
    }
   ],
   "source": [
    "# Importa os dados\n",
    "gssdata = pd.read_csv('gssdata4.csv')\n",
    "gssdata.partyid.unique()"
   ]
  },
  {
   "cell_type": "code",
   "execution_count": 242,
   "metadata": {},
   "outputs": [
    {
     "name": "stdout",
     "output_type": "stream",
     "text": [
      "Parcela dos dados que são da classe poorhealth: 6.38% \n"
     ]
    }
   ],
   "source": [
    "# Trata os dados\n",
    "\n",
    "dummies_df = pd.get_dummies(data=gssdata,columns=['sex','sexornt','race','married','partyid'],drop_first=True)\n",
    "poorhealth = np.where(gssdata['health'] == 'poor',1,0) # Target variable\n",
    "dummies_df['poorhealth'] = poorhealth\n",
    "print(\"Parcela dos dados que são da classe poorhealth: {:.2f}% \".format(100*dummies_df.poorhealth.mean()))"
   ]
  },
  {
   "cell_type": "code",
   "execution_count": 243,
   "metadata": {},
   "outputs": [
    {
     "name": "stdout",
     "output_type": "stream",
     "text": [
      "Parcela dos dados que são da classe poorhealth: 6.38% \n",
      "<class 'pandas.core.frame.DataFrame'>\n",
      "RangeIndex: 1551 entries, 0 to 1550\n",
      "Data columns (total 14 columns):\n",
      "health                              1551 non-null object\n",
      "age                                 1551 non-null int64\n",
      "educ                                1551 non-null int64\n",
      "income                              1551 non-null float64\n",
      "sex_male                            1551 non-null uint8\n",
      "sexornt_dont know                   1551 non-null uint8\n",
      "sexornt_heterosexual or straight    1551 non-null uint8\n",
      "sexornt_homosexual or gay           1551 non-null uint8\n",
      "race_other                          1551 non-null uint8\n",
      "race_white                          1551 non-null uint8\n",
      "married_1                           1551 non-null uint8\n",
      "partyid_other                       1551 non-null uint8\n",
      "partyid_rep                         1551 non-null uint8\n",
      "poorhealth                          1551 non-null int32\n",
      "dtypes: float64(1), int32(1), int64(2), object(1), uint8(9)\n",
      "memory usage: 68.2+ KB\n"
     ]
    }
   ],
   "source": [
    "# Exclui os dados faltantes\n",
    "dummies_df.income = dummies_df.income.fillna(dummies_df.income.mean())\n",
    "#dummies_df = dummies_df.dropna(axis=0)\n",
    "print(\"Parcela dos dados que são da classe poorhealth: {:.2f}% \".format(100*dummies_df.poorhealth.mean()))\n",
    "dummies_df.info()\n",
    "\n"
   ]
  },
  {
   "cell_type": "code",
   "execution_count": 133,
   "metadata": {},
   "outputs": [
    {
     "data": {
      "text/plain": [
       "(198, 14)"
      ]
     },
     "execution_count": 133,
     "metadata": {},
     "output_type": "execute_result"
    }
   ],
   "source": [
    "# Desbalanceia os dados aplicando downsampling\n",
    "\n",
    "dowsampled_df = dummies_df[dummies_df.poorhealth == 0]\n",
    "counts = dummies_df.poorhealth.value_counts()\n",
    "downsize = counts[1]\n",
    "for i in range(10):\n",
    "    shu = np.random.choice(range(dummies_df.shape[0]),size=dummies_df.shape[0],replace=False)\n",
    "    dummies_df = dummies_df.iloc[shu,:]\n",
    "    \n",
    "selected_rows = np.random.choice(range(len(dowsampled_df)),size=downsize)\n",
    "dowsampled_df = dowsampled_df.iloc[selected_rows,:]\n",
    "\n",
    "new_df = pd.concat([dowsampled_df,dummies_df[dummies_df.poorhealth==1]],axis=0)\n",
    "for i in range(10):\n",
    "    shu = np.random.choice(range(new_df.shape[0]),size=new_df.shape[0],replace=False)\n",
    "    new_df = new_df.iloc[shu,:]\n",
    "dummies_df =  new_df\n",
    "dummies_df.shape"
   ]
  },
  {
   "cell_type": "code",
   "execution_count": 225,
   "metadata": {},
   "outputs": [
    {
     "data": {
      "text/plain": [
       "Index(['health', 'age', 'educ', 'income', 'sex_male', 'sexornt_dont know',\n",
       "       'sexornt_heterosexual or straight', 'sexornt_homosexual or gay',\n",
       "       'race_other', 'race_white', 'married_1', 'partyid_other', 'partyid_rep',\n",
       "       'poorhealth'],\n",
       "      dtype='object')"
      ]
     },
     "execution_count": 225,
     "metadata": {},
     "output_type": "execute_result"
    }
   ],
   "source": [
    "dummies_df.columns"
   ]
  },
  {
   "cell_type": "code",
   "execution_count": 244,
   "metadata": {},
   "outputs": [
    {
     "data": {
      "text/plain": [
       "Index(['health', 'age', 'educ', 'income', 'sex_male',\n",
       "       'sexornt_heterosexual or straight', 'sexornt_homosexual or gay',\n",
       "       'race_other', 'race_white', 'married_1', 'partyid_other', 'partyid_rep',\n",
       "       'poorhealth'],\n",
       "      dtype='object')"
      ]
     },
     "execution_count": 244,
     "metadata": {},
     "output_type": "execute_result"
    }
   ],
   "source": [
    "dummies_df = dummies_df.drop(['sexornt_dont know'],axis=1)\n",
    "dummies_df.columns"
   ]
  },
  {
   "cell_type": "markdown",
   "metadata": {},
   "source": [
    "#### Dadaset desbalanceado!"
   ]
  },
  {
   "cell_type": "code",
   "execution_count": 247,
   "metadata": {},
   "outputs": [],
   "source": [
    "# Declara um função para normalizar os dados\n",
    "\n",
    "def norm(xtrain,y):\n",
    "    x = y.copy()\n",
    "    max_ = y.income.max()\n",
    "    min_ = y.income.min()\n",
    "    x.income = (x.income-min_)/(max_-min_)\n",
    "    return x\n",
    "\n",
    "# Divide os dados em treino e teste\n",
    "    \n",
    "msk = np.random.rand(dummies_df.shape[0]) <= 0.6\n",
    "train = dummies_df[msk]\n",
    "test = dummies_df[~msk]\n",
    "\n"
   ]
  },
  {
   "cell_type": "code",
   "execution_count": 248,
   "metadata": {},
   "outputs": [
    {
     "name": "stdout",
     "output_type": "stream",
     "text": [
      "Train Positive ratio 6.53%\n",
      "Test Positive ratio 6.18%\n"
     ]
    }
   ],
   "source": [
    "# Verifica se os dadaset está igualmente balancelado nos conjunto de treino e teste\n",
    "print('Train Positive ratio {:.2f}%'.format(100*np.mean(train.poorhealth == 1)))\n",
    "print('Test Positive ratio {:.2f}%'.format(100*np.mean(test.poorhealth == 1)))\n"
   ]
  },
  {
   "cell_type": "code",
   "execution_count": 231,
   "metadata": {},
   "outputs": [
    {
     "data": {
      "text/plain": [
       "(909, 13)"
      ]
     },
     "execution_count": 231,
     "metadata": {},
     "output_type": "execute_result"
    }
   ],
   "source": [
    "train.shape"
   ]
  },
  {
   "cell_type": "code",
   "execution_count": 249,
   "metadata": {},
   "outputs": [],
   "source": [
    "# Desbalanceia os dados aplicando upsampling\n",
    "\n",
    "upsampled_df = train[train.poorhealth == 1]\n",
    "counts = train.poorhealth.value_counts()\n",
    "upsize = counts[0]-counts[1]\n",
    "\n",
    "selected_rows = np.random.choice(range(len(upsampled_df)),size=upsize,replace=True)\n",
    "upsampled_df = upsampled_df.iloc[selected_rows,:]\n",
    "\n",
    "train = pd.concat([train,upsampled_df],axis=0)\n",
    "for i in range(10):\n",
    "    shu = np.random.choice(range(train.shape[0]),size=train.shape[0],replace=False)\n",
    "    train = train.iloc[shu,:]\n",
    "\n",
    "ytrain = train.poorhealth.values    \n",
    "xtrain =  train.drop(['health','poorhealth'],axis=1)\n",
    "ytest = test.poorhealth.values    \n",
    "xtest = test.drop(['health','poorhealth'],axis=1)\n",
    "\n",
    "# Normaliza os dados\n",
    "\n",
    "xtrain = norm(xtrain,xtrain)\n",
    "xtest = norm(xtrain,xtest)"
   ]
  },
  {
   "cell_type": "code",
   "execution_count": 233,
   "metadata": {},
   "outputs": [
    {
     "data": {
      "text/plain": [
       "Index(['age', 'educ', 'income', 'sex_male', 'sexornt_heterosexual or straight',\n",
       "       'sexornt_homosexual or gay', 'race_other', 'race_white', 'married_1',\n",
       "       'partyid_other', 'partyid_rep'],\n",
       "      dtype='object')"
      ]
     },
     "execution_count": 233,
     "metadata": {},
     "output_type": "execute_result"
    }
   ],
   "source": [
    "xtrain.columns\n"
   ]
  },
  {
   "cell_type": "code",
   "execution_count": 252,
   "metadata": {
    "scrolled": true
   },
   "outputs": [
    {
     "name": "stdout",
     "output_type": "stream",
     "text": [
      "[[621   1]\n",
      " [ 41   0]]\n"
     ]
    }
   ],
   "source": [
    "# Treina um classificador SVM\n",
    "\n",
    "from sklearn.model_selection import GridSearchCV\n",
    "from sklearn.metrics import confusion_matrix,make_scorer,mean_squared_error,mean_absolute_error,average_precision_score\n",
    "\n",
    "mse = make_scorer(average_precision_score)\n",
    "Cvals = [10**i for i in range(-3,4)]\n",
    "grid_param = {'C':Cvals,'gamma':Cvals}\n",
    "grid_svc = GridSearchCV(SVC(kernel='rbf'), param_grid=grid_param,cv=5)\n",
    "grid_svc.fit(xtrain,ytrain)\n",
    "\n",
    "yhat = grid_svc.predict(xtest)\n",
    "print(confusion_matrix(ytest,yhat))\n"
   ]
  },
  {
   "cell_type": "code",
   "execution_count": 253,
   "metadata": {},
   "outputs": [
    {
     "name": "stdout",
     "output_type": "stream",
     "text": [
      "[[621   1]\n",
      " [ 41   0]]\n"
     ]
    }
   ],
   "source": [
    "yhat = grid_svc.predict(xtest)\n",
    "print(confusion_matrix(ytest,yhat))"
   ]
  },
  {
   "cell_type": "code",
   "execution_count": 238,
   "metadata": {},
   "outputs": [
    {
     "name": "stdout",
     "output_type": "stream",
     "text": [
      "Train score 0.999 \n",
      "Test score 0.927\n",
      "Best Parameters  {'C': 1, 'gamma': 100}\n"
     ]
    }
   ],
   "source": [
    "print(\"Train score {:.3f} \".format(grid_svc.score(xtrain,ytrain)))\n",
    "print(\"Test score {:.3f}\".format(grid_svc.score(xtest,ytest)))\n",
    "print(\"Best Parameters \",grid_svc.best_params_)"
   ]
  },
  {
   "cell_type": "code",
   "execution_count": 254,
   "metadata": {},
   "outputs": [
    {
     "data": {
      "text/plain": [
       "array([[419, 203],\n",
       "       [ 16,  25]])"
      ]
     },
     "execution_count": 254,
     "metadata": {},
     "output_type": "execute_result"
    }
   ],
   "source": [
    "# Aplica LogisticRegression\n",
    "\n",
    "from sklearn.linear_model import LinearRegression\n",
    "\n",
    "Cvals = [10**i for i in range(-4,4)]\n",
    "grid_param = {'C':Cvals}\n",
    "grid = GridSearchCV(LogisticRegression(),param_grid=grid_param,cv=5)\n",
    "\n",
    "grid.fit(xtrain,ytrain)\n",
    "yhat = grid.predict(xtest)\n",
    "confusion_matrix(ytest,yhat)"
   ]
  },
  {
   "cell_type": "code",
   "execution_count": 255,
   "metadata": {},
   "outputs": [
    {
     "name": "stdout",
     "output_type": "stream",
     "text": [
      "Train Score  0.678313253012\n",
      "Test Score  0.669683257919\n"
     ]
    }
   ],
   "source": [
    "print('Train Score ',grid.score(xtrain,ytrain))\n",
    "print('Test Score ',grid.score(xtest,ytest))"
   ]
  },
  {
   "cell_type": "code",
   "execution_count": 305,
   "metadata": {},
   "outputs": [],
   "source": [
    "probs = grid.predict_proba(xtest)\n",
    "tps = []\n",
    "for i in np.arange(0.1,1,0.01):\n",
    "    pred = (probs[:,1]>i)*1\n",
    "    cm = confusion_matrix(ytest,pred)\n",
    "    tps.append(cm[0,0]+cm[1,1])\n"
   ]
  },
  {
   "cell_type": "code",
   "execution_count": null,
   "metadata": {
    "collapsed": true
   },
   "outputs": [],
   "source": []
  }
 ],
 "metadata": {
  "kernelspec": {
   "display_name": "Python 3",
   "language": "python",
   "name": "python3"
  },
  "language_info": {
   "codemirror_mode": {
    "name": "ipython",
    "version": 3
   },
   "file_extension": ".py",
   "mimetype": "text/x-python",
   "name": "python",
   "nbconvert_exporter": "python",
   "pygments_lexer": "ipython3",
   "version": "3.6.1"
  }
 },
 "nbformat": 4,
 "nbformat_minor": 2
}
